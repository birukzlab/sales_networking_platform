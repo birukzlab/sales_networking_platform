{
 "cells": [
  {
   "cell_type": "code",
   "execution_count": 10,
   "metadata": {},
   "outputs": [],
   "source": [
    "import requests\n",
    "import pandas as pd \n",
    "import flask\n"
   ]
  },
  {
   "cell_type": "code",
   "execution_count": 9,
   "metadata": {},
   "outputs": [],
   "source": [
    "# Checking API connection - this is for demo purpose\n",
    "\n",
    "def fetch_random_users(n=10):\n",
    "    url = f\"https://randomuser.me/api/?results={10}\"\n",
    "\n",
    "    response = requests.get(url)\n",
    "\n",
    "    if response.status_code == 200:\n",
    "        data = response.json()\n",
    "        users = data.get('results', [])\n",
    "        df = pd.DataFrame([{'first_name': user['name']['first'],\n",
    "                            'last_name': user['name']['last'],\n",
    "                            'email': user['email']\n",
    "        } for user in users])\n",
    "        print(df.head())\n",
    "    else:\n",
    "            response.raise_for_status()"
   ]
  },
  {
   "cell_type": "code",
   "execution_count": 11,
   "metadata": {},
   "outputs": [],
   "source": [
    "from flask import Blueprint, render_template, jsonify\n",
    "\n",
    "main = Blueprint('main', __name__)\n",
    "\n",
    "@main.route('/')\n",
    "def fetch_users():\n",
    "    df = fetch_random_users(n=5)\n",
    "    data = df.to_dict(orient='records')\n",
    "    return jsonify(data)"
   ]
  },
  {
   "cell_type": "code",
   "execution_count": 12,
   "metadata": {},
   "outputs": [],
   "source": []
  },
  {
   "cell_type": "code",
   "execution_count": 14,
   "metadata": {},
   "outputs": [
    {
     "data": {
      "text/plain": [
       "<Flask '__main__'>"
      ]
     },
     "execution_count": 14,
     "metadata": {},
     "output_type": "execute_result"
    }
   ],
   "source": []
  }
 ],
 "metadata": {
  "kernelspec": {
   "display_name": "venv",
   "language": "python",
   "name": "python3"
  },
  "language_info": {
   "codemirror_mode": {
    "name": "ipython",
    "version": 3
   },
   "file_extension": ".py",
   "mimetype": "text/x-python",
   "name": "python",
   "nbconvert_exporter": "python",
   "pygments_lexer": "ipython3",
   "version": "3.11.5"
  },
  "orig_nbformat": 4
 },
 "nbformat": 4,
 "nbformat_minor": 2
}
